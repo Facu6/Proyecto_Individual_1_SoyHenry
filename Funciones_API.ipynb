{
 "cells": [
  {
   "cell_type": "code",
   "execution_count": 256,
   "metadata": {},
   "outputs": [],
   "source": [
    "# Se importa módulo \"FastAPI\"\n",
    "from fastapi import FastAPI\n",
    "# Se importa pandas\n",
    "import pandas as pd\n",
    "# Se importa módulo \"warnings\" para que no aparezcan dichos mensaje\n",
    "import warnings\n",
    "warnings.filterwarnings(\"ignore\")\n",
    "\n",
    "# Se importa el csv \"Movies\" con sus correspondientes transformaciones\n",
    "movies_funciones = pd.read_csv('Movies_Transformaciones.csv')\n",
    "\n",
    "\n",
    "\n",
    "\n",
    "# Se eliminan valores nulos y se convierte a datetima\n",
    "movies_funciones = movies_funciones.dropna(subset= ['release_date']).reset_index(drop = True)\n",
    "movies_funciones['release_date'] = pd.to_datetime(movies_funciones['release_date'], format='%Y-%m-%d', errors='coerce')\n",
    "\n"
   ]
  },
  {
   "cell_type": "code",
   "execution_count": 257,
   "metadata": {},
   "outputs": [
    {
     "name": "stdout",
     "output_type": "stream",
     "text": [
      "34464\n",
      "3505\n"
     ]
    }
   ],
   "source": [
    "# Se observan y reemplazan valors \"-inf\" y \"Nan\"\n",
    "print(movies_funciones['return (porcent)'].isna().sum())\n",
    "print(np.isinf(movies_funciones['return (porcent)']).sum())\n",
    "\n",
    "# Reemplazo\n"
   ]
  },
  {
   "cell_type": "code",
   "execution_count": 258,
   "metadata": {},
   "outputs": [
    {
     "data": {
      "text/plain": [
       "45376"
      ]
     },
     "execution_count": 258,
     "metadata": {},
     "output_type": "execute_result"
    }
   ],
   "source": [
    "len(movies_funciones)"
   ]
  },
  {
   "cell_type": "code",
   "execution_count": 259,
   "metadata": {},
   "outputs": [],
   "source": [
    "# Se cambian las opciones de visualización para poder observar el contenido completo de las columnas\n",
    "pd.reset_option('display.max_colwidth') # En caso de volver a establecerlo sería \"pd.reset_option('display.max_colwidth')\" # pd.set_option('display.max_colwidth', None)\n",
    "\n",
    "# Se amplia la visión para observar la totalidad de las columnas\n",
    "pd.set_option('display.max_columns', None)"
   ]
  },
  {
   "cell_type": "code",
   "execution_count": 260,
   "metadata": {},
   "outputs": [],
   "source": [
    "# Se instancia \"FastAPI\"\n",
    "app = FastAPI()"
   ]
  },
  {
   "cell_type": "markdown",
   "metadata": {},
   "source": [
    "# Función 1"
   ]
  },
  {
   "cell_type": "code",
   "execution_count": 261,
   "metadata": {},
   "outputs": [],
   "source": [
    "# Creamos diccionario con los meses en español \n",
    "meses_a_numero = {'enero' : 1, \n",
    "                    'febrero' : 2,\n",
    "                    'marzo' : 3,\n",
    "                    'abril' : 4,\n",
    "                    'mayo' : 5,\n",
    "                    'junio' : 6,\n",
    "                    'julio' : 7,\n",
    "                    'agosto' : 8,\n",
    "                    'septiembre' : 9,\n",
    "                    'octubre' : 10,\n",
    "                    'noviembre' : 11,\n",
    "                    'diciembre': 12}"
   ]
  },
  {
   "cell_type": "code",
   "execution_count": 262,
   "metadata": {},
   "outputs": [],
   "source": [
    "@app.get('/cantidad_filmaciones_mes/{Mes}')\n",
    "def cantidad_filmaciones_mes(Mes):\n",
    "    Mes = Mes.lower()\n",
    "    \n",
    "    mes_numero = meses_a_numero.get(Mes, None)\n",
    "    if mes_numero is None:\n",
    "        return {'Error' : 'Mes no válido'}\n",
    "    \n",
    "    \n",
    "    peliculas_mes = movies_funciones[movies_funciones['release_date'].dt.month == mes_numero]\n",
    "    \n",
    "    return {'cantidad' : len(peliculas_mes)}\n"
   ]
  },
  {
   "cell_type": "code",
   "execution_count": 263,
   "metadata": {},
   "outputs": [
    {
     "data": {
      "text/plain": [
       "{'cantidad': 3032}"
      ]
     },
     "execution_count": 263,
     "metadata": {},
     "output_type": "execute_result"
    }
   ],
   "source": [
    "cantidad_filmaciones_mes('febrero')"
   ]
  },
  {
   "cell_type": "code",
   "execution_count": 264,
   "metadata": {},
   "outputs": [
    {
     "data": {
      "text/plain": [
       "3032"
      ]
     },
     "execution_count": 264,
     "metadata": {},
     "output_type": "execute_result"
    }
   ],
   "source": [
    "agosto = movies_funciones[movies_funciones['release_date'].dt.month == 2]\n",
    "len(agosto)"
   ]
  },
  {
   "cell_type": "markdown",
   "metadata": {},
   "source": [
    "# Función 2"
   ]
  },
  {
   "cell_type": "code",
   "execution_count": 265,
   "metadata": {},
   "outputs": [],
   "source": [
    "def cantidad_filmaciones_dia(Dia):\n",
    "    \n",
    "    dias_semana_diccionario = {'lunes':0, \n",
    "                     'martes':1, \n",
    "                     'miercoles':2,\n",
    "                     'miércoles':2, \n",
    "                     'jueves':3, \n",
    "                     'viernes':4, \n",
    "                     'sabado':5,\n",
    "                     'sábado': 5, \n",
    "                     'domingo':6}\n",
    "    Dia = Dia.lower()\n",
    "    \n",
    "    dias_semana = dias_semana_diccionario.get(Dia, None)   \n",
    "    if dias_semana is None:\n",
    "        return {'Error' : 'Día no válido'}\n",
    "    \n",
    "    \n",
    "    peliculas_dia = movies_funciones[movies_funciones['release_date'].dt.dayofweek == dias_semana]\n",
    "    \n",
    "    return {'cantidad' : len(peliculas_dia)}"
   ]
  },
  {
   "cell_type": "code",
   "execution_count": 266,
   "metadata": {},
   "outputs": [
    {
     "data": {
      "text/plain": [
       "{'cantidad': 5151}"
      ]
     },
     "execution_count": 266,
     "metadata": {},
     "output_type": "execute_result"
    }
   ],
   "source": [
    "cantidad_filmaciones_dia('sábado')"
   ]
  },
  {
   "cell_type": "markdown",
   "metadata": {},
   "source": [
    "# Función 3"
   ]
  },
  {
   "cell_type": "code",
   "execution_count": 267,
   "metadata": {},
   "outputs": [],
   "source": [
    "# from unidecode import unidecode\n",
    "\n",
    "def score_titulo(titulo):\n",
    "    \n",
    "    titulo = titulo.lower()\n",
    "    \n",
    "    peliculas_filtradas = movies_funciones.loc[movies_funciones['title'].str.lower() == titulo]\n",
    "    \n",
    "    \n",
    "    if peliculas_filtradas.empty:\n",
    "        return {'Error' : 'Titulo No Encontrado'}\n",
    "    else: \n",
    "        resultados = []\n",
    "        \n",
    "        # Se realiza un bucle \"for\" ya que hay titulos que repiten su nombre\n",
    "        for _, fila in peliculas_filtradas.iterrows():\n",
    "            resultados.append({\n",
    "                'Titulo': fila['title'],\n",
    "                'Año de Estreno': fila['release_year'],\n",
    "                'Popularidad': fila['popularity']\n",
    "            })\n",
    "        \n",
    "        return resultados\n",
    "        "
   ]
  },
  {
   "cell_type": "code",
   "execution_count": 268,
   "metadata": {},
   "outputs": [
    {
     "data": {
      "text/plain": [
       "[{'Titulo': 'Robin Hood', 'Año de Estreno': 1973, 'Popularidad': 11.179855},\n",
       " {'Titulo': 'Robin Hood', 'Año de Estreno': 1922, 'Popularidad': 0.611926},\n",
       " {'Titulo': 'Robin Hood', 'Año de Estreno': 2010, 'Popularidad': 10.56812},\n",
       " {'Titulo': 'Robin Hood', 'Año de Estreno': 1991, 'Popularidad': '5.683753'}]"
      ]
     },
     "execution_count": 268,
     "metadata": {},
     "output_type": "execute_result"
    }
   ],
   "source": [
    "score_titulo('Robin Hood')"
   ]
  },
  {
   "cell_type": "markdown",
   "metadata": {},
   "source": [
    "# Función 4"
   ]
  },
  {
   "cell_type": "code",
   "execution_count": 269,
   "metadata": {},
   "outputs": [],
   "source": [
    "#@app.get('/votos_titulos/{titulo_filmacion}')\n",
    "def votos_titulo(titulo_filmacion):\n",
    "    \n",
    "    titulo_filmacion = titulo_filmacion.lower() # El valor de entrada se pasa a minúscula para mejor manejo\n",
    "    \n",
    "    peliculas_filtradas = movies_funciones.loc[movies_funciones['title'].str.lower() == titulo_filmacion] # Se realiza el filtro de el título ingresado por el usuario con los titulos del DataFrame\n",
    "\n",
    "    \n",
    "    # Se utilizan condicionales\n",
    "    if peliculas_filtradas.empty: # Si \"peliculas_filtras\" se encuentra vacío, devuelve \"Título No Encontrado\"\n",
    "        return {'Error' : 'Titulo No Encontrado'}\n",
    "    else: \n",
    "        peliculas_cantidad_votos = peliculas_filtradas[peliculas_filtradas['vote_count'] >= 2000] # Se realiza un filtro para dar con las películas que cuentan con más de 2000 valoraciones\n",
    "        if peliculas_cantidad_votos.empty: # Si la variable \"peliculas_cantidad_votos\" se encuentra encuentra vacía, tiene menos de 2000 valoraciones y devuelve mensaje de error \n",
    "            return {'Error' : 'La película cuenta con menos de 2000 valoraciones. Ingrese un título que cumpla dicha condición'}\n",
    "        else: # En el caso de cumplir con el filtro devuelve \"Título\", \"Año Estreno (con motivo de especificar que hay titulos repetidos pero son distintas películas)\", \"Cantidad Votos\", \"Valor Promedio Votaciones\"\n",
    "        \n",
    "            resultados = []\n",
    "            \n",
    "            for _, fila in peliculas_cantidad_votos.iterrows(): # Se realiza un bucle for sobre la variable \"peliculas_cantidad_votos\" ya que es donde se aplicó el filtro\n",
    "                resultados.append({\n",
    "                    'Titulo': fila['title'],\n",
    "                    'Año Estreno' : fila['release_year'],\n",
    "                    'Cantidad Votos': fila['vote_count'],\n",
    "                    'Valor Promedio de Votaciones': fila['vote_average']\n",
    "                })\n",
    "                        \n",
    "            return resultados\n",
    "                    \n"
   ]
  },
  {
   "cell_type": "code",
   "execution_count": 270,
   "metadata": {},
   "outputs": [
    {
     "name": "stdout",
     "output_type": "stream",
     "text": [
      "[{'Titulo': 'Titanic', 'Año Estreno': 1997, 'Cantidad Votos': 7770.0, 'Valor Promedio de Votaciones': 7.5}]\n"
     ]
    }
   ],
   "source": [
    "print(votos_titulo('titanic'))"
   ]
  },
  {
   "cell_type": "markdown",
   "metadata": {},
   "source": [
    "# Función 5"
   ]
  },
  {
   "cell_type": "code",
   "execution_count": 271,
   "metadata": {},
   "outputs": [],
   "source": [
    "# Ya que las siguientes 2 funciones requieren datos del csv \"credits\", se procede a importar el mismo\n",
    "credits_funciones = pd.read_csv('Credits_Transformaciones.csv')"
   ]
  },
  {
   "cell_type": "code",
   "execution_count": 272,
   "metadata": {},
   "outputs": [
    {
     "name": "stdout",
     "output_type": "stream",
     "text": [
      "34464\n",
      "3505\n",
      "0\n",
      "0\n"
     ]
    }
   ],
   "source": [
    "import numpy as np\n",
    "\n",
    "# Se observan y reemplazan valors \"-inf\" y \"Nan\"\n",
    "print(movies_funciones['return (porcent)'].isna().sum())\n",
    "print(np.isinf(movies_funciones['return (porcent)']).sum())\n",
    "\n",
    "# Se reemplazan valores \n",
    "movies_funciones['return (porcent)'].fillna(0, inplace = True)\n",
    "movies_funciones['return (porcent)'].replace(-np.inf, 0, inplace = True)\n",
    "\n",
    "# Se observan nuevamente valores nulos y \"-inf\"\n",
    "print(movies_funciones['return (porcent)'].isna().sum())\n",
    "print(np.isinf(movies_funciones['return (porcent)']).sum())"
   ]
  },
  {
   "cell_type": "code",
   "execution_count": 273,
   "metadata": {},
   "outputs": [],
   "source": [
    "def get_actor(nombre_actor): \n",
    "    \n",
    "    # Se establece el mismo tipo de dato para las columnas \"id_ORIGINAL\" de ambos dataframe\n",
    "    credits_funciones['id_ORIGINAL'] = credits_funciones['id_ORIGINAL'].astype(str)\n",
    "    movies_funciones['id_ORIGINAL'] = movies_funciones['id_ORIGINAL'].astype(str)\n",
    "    \n",
    "    # El valor de entrada se pasa a minúscula para mejor manejo\n",
    "    nombre_actor = nombre_actor.lower()\n",
    "    \n",
    "    # Se realiza el filtro de el título ingresado por el usuario con los titulos del DataFrame\n",
    "    actor_filtrado = credits_funciones.loc[credits_funciones['Actores'].str.lower().str.contains(nombre_actor)] # Se realiza el filtro de el título ingresado por el usuario con los titulos del DataFrame\n",
    "\n",
    "    \n",
    "    if actor_filtrado.empty: # Si \"actor_filtrado\" se encuentra vacío, devuelve \"Actor No Encontrado\"\n",
    "        return {'Error' : 'Actor No Encontrado'}\n",
    "    else: # Caso contrario:\n",
    "        \n",
    "        # Une ambos dataframe por la columna \"id_ORIGINAL\"\n",
    "        peliculas_actor = pd.merge(actor_filtrado, movies_funciones, on = 'id_ORIGINAL')\n",
    "        \n",
    "        # Calcula la cantidad total de películas en las que trabajó el actor\n",
    "        cantidad_peliculas = len(peliculas_actor)\n",
    "        \n",
    "        # Calcula el promedio del retorno de las películas \n",
    "        promedio_retorno = (peliculas_actor['return (porcent)'].sum()) / cantidad_peliculas\n",
    "        \n",
    "        # Calcula el éxito del actor sumando el retorno de las películas\n",
    "        exito_actor = peliculas_actor['return (porcent)'].sum()\n",
    "        \n",
    "        \n",
    "        # Retorna el diccionario con dichos datos\n",
    "        return {'Actor' : nombre_actor, 'Cantidad Peliculas' : cantidad_peliculas, 'Éxito Actor' : exito_actor, 'Promedio Retorno de Películas' : promedio_retorno}"
   ]
  },
  {
   "cell_type": "code",
   "execution_count": 274,
   "metadata": {},
   "outputs": [
    {
     "data": {
      "text/plain": [
       "{'Actor': 'jim carrey',\n",
       " 'Cantidad Peliculas': 42,\n",
       " 'Éxito Actor': 1290.2361894224387,\n",
       " 'Promedio Retorno de Películas': 30.719909271962827}"
      ]
     },
     "execution_count": 274,
     "metadata": {},
     "output_type": "execute_result"
    }
   ],
   "source": [
    "get_actor('Jim Carrey')"
   ]
  },
  {
   "cell_type": "markdown",
   "metadata": {},
   "source": [
    "# Función 6"
   ]
  },
  {
   "cell_type": "code",
   "execution_count": 275,
   "metadata": {},
   "outputs": [],
   "source": [
    "def get_director(nombre_director):\n",
    "    \n",
    "    # Se establece el mismo tipo de dato para las columnas \"id_ORIGINAL\" de ambos dataframe\n",
    "    credits_funciones['id_ORIGINAL'] = credits_funciones['id_ORIGINAL'].astype(str)\n",
    "    movies_funciones['id_ORIGINAL'] = movies_funciones['id_ORIGINAL'].astype(str)\n",
    "    \n",
    "    \n",
    "    # El valor de entrada se pasa a minúscula para mejor manejo\n",
    "    nombre_director = nombre_director.lower()\n",
    "    \n",
    "    # Se realiza el filtro de el director ingresado por el usuario con los directores del DataFrame\n",
    "    director_filtrado = credits_funciones.loc[credits_funciones['Director'].str.lower().str.contains(nombre_director)] \n",
    "\n",
    "    if director_filtrado.empty: # Si \"director_filtrado\" se encuentra vacío, devuelve Director No Encontrado\"\n",
    "        return {'Error' : 'Director No Encontrado'}\n",
    "    \n",
    "    else: # Caso contrario:\n",
    "                \n",
    "        # Une ambos dataframe por la columna \"id_ORIGINAL\"\n",
    "        peliculas_director = pd.merge(director_filtrado, movies_funciones, on = 'id_ORIGINAL')\n",
    "        \n",
    "        # Calcula el éxito del director sumando el retorno de las películas\n",
    "        exito_director = peliculas_director['return (porcent)'].sum()\n",
    "\n",
    "        # Se extraen los títulos de las películas\n",
    "        nombre_peliculas = peliculas_director['title'].tolist() # El método \".tolist()\" convierte los valores en listas\n",
    "        \n",
    "        # Se extrae la fecha de lanzamiento\n",
    "        fecha_lanzamiento = peliculas_director['release_date'].astype(str).tolist()\n",
    "        \n",
    "        # Se extrae el retorno individual \n",
    "        retorno_individual = peliculas_director['return (porcent)'].tolist()\n",
    "        \n",
    "        # Se extrae el costo\n",
    "        costo = peliculas_director['budget'].tolist()\n",
    "        \n",
    "        # Se extrae la ganancia\n",
    "        ganancia = peliculas_director['revenue'].tolist()\n",
    "        \n",
    "        \n",
    "        # Se crea una lista donde se guardarán la información de cada película en formato \"diccionario\"\n",
    "        peliculas_info = []\n",
    "    for i in range(len(nombre_peliculas)): # El bucle \"for\" itera desde \"0\" hasta el útlimo índice de \"nombre_peliculas\"\n",
    "        peliculas_info.append({ \n",
    "            'Título': nombre_peliculas[i],\n",
    "            'Fecha Lanzamiento': fecha_lanzamiento[i],\n",
    "            'Retorno Individual': retorno_individual[i],\n",
    "            'Costo': costo[i],\n",
    "            'Ganancia': ganancia[i]})\n",
    "    \n",
    "    # Retorna los valores detallados \n",
    "    return {'Director': nombre_director,\n",
    "        'Éxito Director': exito_director,\n",
    "        'Películas': peliculas_info}\n",
    "        \n",
    "         \n",
    "    \n",
    "    \n",
    "    \n",
    "    "
   ]
  },
  {
   "cell_type": "code",
   "execution_count": 276,
   "metadata": {},
   "outputs": [
    {
     "data": {
      "text/plain": [
       "{'Director': 'john lasseter',\n",
       " 'Éxito Director': 379.1407694867655,\n",
       " 'Películas': [{'Título': 'Toy Story',\n",
       "   'Fecha Lanzamiento': '1995-10-30',\n",
       "   'Retorno Individual': 91.96903329912652,\n",
       "   'Costo': 30000000,\n",
       "   'Ganancia': 373554033},\n",
       "  {'Título': \"A Bug's Life\",\n",
       "   'Fecha Lanzamiento': '1998-11-25',\n",
       "   'Retorno Individual': 66.96570585220056,\n",
       "   'Costo': 120000000,\n",
       "   'Ganancia': 363258859},\n",
       "  {'Título': 'Toy Story 2',\n",
       "   'Fecha Lanzamiento': '1999-10-30',\n",
       "   'Retorno Individual': 81.90470543786864,\n",
       "   'Costo': 90000000,\n",
       "   'Ganancia': 497366869},\n",
       "  {'Título': 'Luxo Jr.',\n",
       "   'Fecha Lanzamiento': '1986-08-17',\n",
       "   'Retorno Individual': 0.0,\n",
       "   'Costo': 0,\n",
       "   'Ganancia': 0},\n",
       "  {'Título': 'Cars',\n",
       "   'Fecha Lanzamiento': '2006-06-08',\n",
       "   'Retorno Individual': 74.02502661412007,\n",
       "   'Costo': 120000000,\n",
       "   'Ganancia': 461983149},\n",
       "  {'Título': 'Cars 2',\n",
       "   'Fecha Lanzamiento': '2011-06-11',\n",
       "   'Retorno Individual': 64.27629828344969,\n",
       "   'Costo': 200000000,\n",
       "   'Ganancia': 559852396},\n",
       "  {'Título': 'Tin Toy',\n",
       "   'Fecha Lanzamiento': '1988-08-01',\n",
       "   'Retorno Individual': 0.0,\n",
       "   'Costo': 0,\n",
       "   'Ganancia': 0},\n",
       "  {'Título': \"Red's Dream\",\n",
       "   'Fecha Lanzamiento': '1987-08-17',\n",
       "   'Retorno Individual': 0.0,\n",
       "   'Costo': 0,\n",
       "   'Ganancia': 0},\n",
       "  {'Título': 'Knick Knack',\n",
       "   'Fecha Lanzamiento': '1989-01-01',\n",
       "   'Retorno Individual': 0.0,\n",
       "   'Costo': 0,\n",
       "   'Ganancia': 0},\n",
       "  {'Título': 'Mater and the Ghostlight',\n",
       "   'Fecha Lanzamiento': '2006-07-27',\n",
       "   'Retorno Individual': 0.0,\n",
       "   'Costo': 0,\n",
       "   'Ganancia': 0}]}"
      ]
     },
     "execution_count": 276,
     "metadata": {},
     "output_type": "execute_result"
    }
   ],
   "source": [
    "get_director('john lasseter')"
   ]
  }
 ],
 "metadata": {
  "kernelspec": {
   "display_name": "Python 3",
   "language": "python",
   "name": "python3"
  },
  "language_info": {
   "codemirror_mode": {
    "name": "ipython",
    "version": 3
   },
   "file_extension": ".py",
   "mimetype": "text/x-python",
   "name": "python",
   "nbconvert_exporter": "python",
   "pygments_lexer": "ipython3",
   "version": "3.11.8"
  }
 },
 "nbformat": 4,
 "nbformat_minor": 2
}
