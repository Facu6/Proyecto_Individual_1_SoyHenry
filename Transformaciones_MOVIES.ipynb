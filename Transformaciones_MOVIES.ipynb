{
 "cells": [
  {
   "cell_type": "markdown",
   "metadata": {},
   "source": [
    "# ---- TRANSFORMACIONES MOVIES ----"
   ]
  },
  {
   "cell_type": "code",
   "execution_count": 154,
   "metadata": {},
   "outputs": [],
   "source": [
    "# Se importa Pandas y se descargan dataset\n",
    "import pandas as pd\n",
    "\n",
    "movies = pd.read_csv(Datasets/movies_dataset.csv)"
   ]
  },
  {
   "cell_type": "code",
   "execution_count": 155,
   "metadata": {},
   "outputs": [],
   "source": [
    "# Se cambian las opciones de visualización para poder observar el contenido completo de las columnas\n",
    "pd.set_option('display.max_colwidth', None) # En caso de volver a establecerlo sería \"pd.reset_option('display.max_colwidth')\"\n",
    "\n",
    "# Se amplia la visión para observar la totalidad de las columnas\n",
    "pd.set_option('display.max_columns', None)\n",
    "\n",
    "# Se importa módulo \"warnings\" para que no aparezcan dichos mensaje\n",
    "import warnings\n",
    "warnings.filterwarnings(\"ignore\")\n",
    "\n",
    "\n",
    "# Se reemplazan valores \"NaN\" por \"None\" )\n",
    "movies = movies.where(pd.notnull(movies), None)"
   ]
  },
  {
   "cell_type": "code",
   "execution_count": 156,
   "metadata": {},
   "outputs": [
    {
     "data": {
      "text/html": [
       "<div>\n",
       "<style scoped>\n",
       "    .dataframe tbody tr th:only-of-type {\n",
       "        vertical-align: middle;\n",
       "    }\n",
       "\n",
       "    .dataframe tbody tr th {\n",
       "        vertical-align: top;\n",
       "    }\n",
       "\n",
       "    .dataframe thead th {\n",
       "        text-align: right;\n",
       "    }\n",
       "</style>\n",
       "<table border=\"1\" class=\"dataframe\">\n",
       "  <thead>\n",
       "    <tr style=\"text-align: right;\">\n",
       "      <th></th>\n",
       "      <th>adult</th>\n",
       "      <th>belongs_to_collection</th>\n",
       "      <th>budget</th>\n",
       "      <th>genres</th>\n",
       "      <th>homepage</th>\n",
       "      <th>id</th>\n",
       "      <th>imdb_id</th>\n",
       "      <th>original_language</th>\n",
       "      <th>original_title</th>\n",
       "      <th>overview</th>\n",
       "      <th>popularity</th>\n",
       "      <th>poster_path</th>\n",
       "      <th>production_companies</th>\n",
       "      <th>production_countries</th>\n",
       "      <th>release_date</th>\n",
       "      <th>revenue</th>\n",
       "      <th>runtime</th>\n",
       "      <th>spoken_languages</th>\n",
       "      <th>status</th>\n",
       "      <th>tagline</th>\n",
       "      <th>title</th>\n",
       "      <th>video</th>\n",
       "      <th>vote_average</th>\n",
       "      <th>vote_count</th>\n",
       "    </tr>\n",
       "  </thead>\n",
       "  <tbody>\n",
       "    <tr>\n",
       "      <th>0</th>\n",
       "      <td>False</td>\n",
       "      <td>{'id': 10194, 'name': 'Toy Story Collection', 'poster_path': '/7G9915LfUQ2lVfwMEEhDsn3kT4B.jpg', 'backdrop_path': '/9FBwqcd9IRruEDUrTdcaafOMKUq.jpg'}</td>\n",
       "      <td>30000000</td>\n",
       "      <td>[{'id': 16, 'name': 'Animation'}, {'id': 35, 'name': 'Comedy'}, {'id': 10751, 'name': 'Family'}]</td>\n",
       "      <td>http://toystory.disney.com/toy-story</td>\n",
       "      <td>862</td>\n",
       "      <td>tt0114709</td>\n",
       "      <td>en</td>\n",
       "      <td>Toy Story</td>\n",
       "      <td>Led by Woody, Andy's toys live happily in his room until Andy's birthday brings Buzz Lightyear onto the scene. Afraid of losing his place in Andy's heart, Woody plots against Buzz. But when circumstances separate Buzz and Woody from their owner, the duo eventually learns to put aside their differences.</td>\n",
       "      <td>21.946943</td>\n",
       "      <td>/rhIRbceoE9lR4veEXuwCC2wARtG.jpg</td>\n",
       "      <td>[{'name': 'Pixar Animation Studios', 'id': 3}]</td>\n",
       "      <td>[{'iso_3166_1': 'US', 'name': 'United States of America'}]</td>\n",
       "      <td>1995-10-30</td>\n",
       "      <td>373554033.0</td>\n",
       "      <td>81.0</td>\n",
       "      <td>[{'iso_639_1': 'en', 'name': 'English'}]</td>\n",
       "      <td>Released</td>\n",
       "      <td>None</td>\n",
       "      <td>Toy Story</td>\n",
       "      <td>False</td>\n",
       "      <td>7.7</td>\n",
       "      <td>5415.0</td>\n",
       "    </tr>\n",
       "    <tr>\n",
       "      <th>1</th>\n",
       "      <td>False</td>\n",
       "      <td>None</td>\n",
       "      <td>65000000</td>\n",
       "      <td>[{'id': 12, 'name': 'Adventure'}, {'id': 14, 'name': 'Fantasy'}, {'id': 10751, 'name': 'Family'}]</td>\n",
       "      <td>None</td>\n",
       "      <td>8844</td>\n",
       "      <td>tt0113497</td>\n",
       "      <td>en</td>\n",
       "      <td>Jumanji</td>\n",
       "      <td>When siblings Judy and Peter discover an enchanted board game that opens the door to a magical world, they unwittingly invite Alan -- an adult who's been trapped inside the game for 26 years -- into their living room. Alan's only hope for freedom is to finish the game, which proves risky as all three find themselves running from giant rhinoceroses, evil monkeys and other terrifying creatures.</td>\n",
       "      <td>17.015539</td>\n",
       "      <td>/vzmL6fP7aPKNKPRTFnZmiUfciyV.jpg</td>\n",
       "      <td>[{'name': 'TriStar Pictures', 'id': 559}, {'name': 'Teitler Film', 'id': 2550}, {'name': 'Interscope Communications', 'id': 10201}]</td>\n",
       "      <td>[{'iso_3166_1': 'US', 'name': 'United States of America'}]</td>\n",
       "      <td>1995-12-15</td>\n",
       "      <td>262797249.0</td>\n",
       "      <td>104.0</td>\n",
       "      <td>[{'iso_639_1': 'en', 'name': 'English'}, {'iso_639_1': 'fr', 'name': 'Français'}]</td>\n",
       "      <td>Released</td>\n",
       "      <td>Roll the dice and unleash the excitement!</td>\n",
       "      <td>Jumanji</td>\n",
       "      <td>False</td>\n",
       "      <td>6.9</td>\n",
       "      <td>2413.0</td>\n",
       "    </tr>\n",
       "    <tr>\n",
       "      <th>2</th>\n",
       "      <td>False</td>\n",
       "      <td>{'id': 119050, 'name': 'Grumpy Old Men Collection', 'poster_path': '/nLvUdqgPgm3F85NMCii9gVFUcet.jpg', 'backdrop_path': '/hypTnLot2z8wpFS7qwsQHW1uV8u.jpg'}</td>\n",
       "      <td>0</td>\n",
       "      <td>[{'id': 10749, 'name': 'Romance'}, {'id': 35, 'name': 'Comedy'}]</td>\n",
       "      <td>None</td>\n",
       "      <td>15602</td>\n",
       "      <td>tt0113228</td>\n",
       "      <td>en</td>\n",
       "      <td>Grumpier Old Men</td>\n",
       "      <td>A family wedding reignites the ancient feud between next-door neighbors and fishing buddies John and Max. Meanwhile, a sultry Italian divorcée opens a restaurant at the local bait shop, alarming the locals who worry she'll scare the fish away. But she's less interested in seafood than she is in cooking up a hot time with Max.</td>\n",
       "      <td>11.7129</td>\n",
       "      <td>/6ksm1sjKMFLbO7UY2i6G1ju9SML.jpg</td>\n",
       "      <td>[{'name': 'Warner Bros.', 'id': 6194}, {'name': 'Lancaster Gate', 'id': 19464}]</td>\n",
       "      <td>[{'iso_3166_1': 'US', 'name': 'United States of America'}]</td>\n",
       "      <td>1995-12-22</td>\n",
       "      <td>0.0</td>\n",
       "      <td>101.0</td>\n",
       "      <td>[{'iso_639_1': 'en', 'name': 'English'}]</td>\n",
       "      <td>Released</td>\n",
       "      <td>Still Yelling. Still Fighting. Still Ready for Love.</td>\n",
       "      <td>Grumpier Old Men</td>\n",
       "      <td>False</td>\n",
       "      <td>6.5</td>\n",
       "      <td>92.0</td>\n",
       "    </tr>\n",
       "    <tr>\n",
       "      <th>3</th>\n",
       "      <td>False</td>\n",
       "      <td>None</td>\n",
       "      <td>16000000</td>\n",
       "      <td>[{'id': 35, 'name': 'Comedy'}, {'id': 18, 'name': 'Drama'}, {'id': 10749, 'name': 'Romance'}]</td>\n",
       "      <td>None</td>\n",
       "      <td>31357</td>\n",
       "      <td>tt0114885</td>\n",
       "      <td>en</td>\n",
       "      <td>Waiting to Exhale</td>\n",
       "      <td>Cheated on, mistreated and stepped on, the women are holding their breath, waiting for the elusive \"good man\" to break a string of less-than-stellar lovers. Friends and confidants Vannah, Bernie, Glo and Robin talk it all out, determined to find a better way to breathe.</td>\n",
       "      <td>3.859495</td>\n",
       "      <td>/16XOMpEaLWkrcPqSQqhTmeJuqQl.jpg</td>\n",
       "      <td>[{'name': 'Twentieth Century Fox Film Corporation', 'id': 306}]</td>\n",
       "      <td>[{'iso_3166_1': 'US', 'name': 'United States of America'}]</td>\n",
       "      <td>1995-12-22</td>\n",
       "      <td>81452156.0</td>\n",
       "      <td>127.0</td>\n",
       "      <td>[{'iso_639_1': 'en', 'name': 'English'}]</td>\n",
       "      <td>Released</td>\n",
       "      <td>Friends are the people who let you be yourself... and never let you forget it.</td>\n",
       "      <td>Waiting to Exhale</td>\n",
       "      <td>False</td>\n",
       "      <td>6.1</td>\n",
       "      <td>34.0</td>\n",
       "    </tr>\n",
       "    <tr>\n",
       "      <th>4</th>\n",
       "      <td>False</td>\n",
       "      <td>{'id': 96871, 'name': 'Father of the Bride Collection', 'poster_path': '/nts4iOmNnq7GNicycMJ9pSAn204.jpg', 'backdrop_path': '/7qwE57OVZmMJChBpLEbJEmzUydk.jpg'}</td>\n",
       "      <td>0</td>\n",
       "      <td>[{'id': 35, 'name': 'Comedy'}]</td>\n",
       "      <td>None</td>\n",
       "      <td>11862</td>\n",
       "      <td>tt0113041</td>\n",
       "      <td>en</td>\n",
       "      <td>Father of the Bride Part II</td>\n",
       "      <td>Just when George Banks has recovered from his daughter's wedding, he receives the news that she's pregnant ... and that George's wife, Nina, is expecting too. He was planning on selling their home, but that's a plan that -- like George -- will have to change with the arrival of both a grandchild and a kid of his own.</td>\n",
       "      <td>8.387519</td>\n",
       "      <td>/e64sOI48hQXyru7naBFyssKFxVd.jpg</td>\n",
       "      <td>[{'name': 'Sandollar Productions', 'id': 5842}, {'name': 'Touchstone Pictures', 'id': 9195}]</td>\n",
       "      <td>[{'iso_3166_1': 'US', 'name': 'United States of America'}]</td>\n",
       "      <td>1995-02-10</td>\n",
       "      <td>76578911.0</td>\n",
       "      <td>106.0</td>\n",
       "      <td>[{'iso_639_1': 'en', 'name': 'English'}]</td>\n",
       "      <td>Released</td>\n",
       "      <td>Just When His World Is Back To Normal... He's In For The Surprise Of His Life!</td>\n",
       "      <td>Father of the Bride Part II</td>\n",
       "      <td>False</td>\n",
       "      <td>5.7</td>\n",
       "      <td>173.0</td>\n",
       "    </tr>\n",
       "  </tbody>\n",
       "</table>\n",
       "</div>"
      ],
      "text/plain": [
       "   adult  \\\n",
       "0  False   \n",
       "1  False   \n",
       "2  False   \n",
       "3  False   \n",
       "4  False   \n",
       "\n",
       "                                                                                                                                             belongs_to_collection  \\\n",
       "0            {'id': 10194, 'name': 'Toy Story Collection', 'poster_path': '/7G9915LfUQ2lVfwMEEhDsn3kT4B.jpg', 'backdrop_path': '/9FBwqcd9IRruEDUrTdcaafOMKUq.jpg'}   \n",
       "1                                                                                                                                                             None   \n",
       "2      {'id': 119050, 'name': 'Grumpy Old Men Collection', 'poster_path': '/nLvUdqgPgm3F85NMCii9gVFUcet.jpg', 'backdrop_path': '/hypTnLot2z8wpFS7qwsQHW1uV8u.jpg'}   \n",
       "3                                                                                                                                                             None   \n",
       "4  {'id': 96871, 'name': 'Father of the Bride Collection', 'poster_path': '/nts4iOmNnq7GNicycMJ9pSAn204.jpg', 'backdrop_path': '/7qwE57OVZmMJChBpLEbJEmzUydk.jpg'}   \n",
       "\n",
       "     budget  \\\n",
       "0  30000000   \n",
       "1  65000000   \n",
       "2         0   \n",
       "3  16000000   \n",
       "4         0   \n",
       "\n",
       "                                                                                              genres  \\\n",
       "0   [{'id': 16, 'name': 'Animation'}, {'id': 35, 'name': 'Comedy'}, {'id': 10751, 'name': 'Family'}]   \n",
       "1  [{'id': 12, 'name': 'Adventure'}, {'id': 14, 'name': 'Fantasy'}, {'id': 10751, 'name': 'Family'}]   \n",
       "2                                   [{'id': 10749, 'name': 'Romance'}, {'id': 35, 'name': 'Comedy'}]   \n",
       "3      [{'id': 35, 'name': 'Comedy'}, {'id': 18, 'name': 'Drama'}, {'id': 10749, 'name': 'Romance'}]   \n",
       "4                                                                     [{'id': 35, 'name': 'Comedy'}]   \n",
       "\n",
       "                               homepage     id    imdb_id original_language  \\\n",
       "0  http://toystory.disney.com/toy-story    862  tt0114709                en   \n",
       "1                                  None   8844  tt0113497                en   \n",
       "2                                  None  15602  tt0113228                en   \n",
       "3                                  None  31357  tt0114885                en   \n",
       "4                                  None  11862  tt0113041                en   \n",
       "\n",
       "                original_title  \\\n",
       "0                    Toy Story   \n",
       "1                      Jumanji   \n",
       "2             Grumpier Old Men   \n",
       "3            Waiting to Exhale   \n",
       "4  Father of the Bride Part II   \n",
       "\n",
       "                                                                                                                                                                                                                                                                                                                                                                                                      overview  \\\n",
       "0                                                                                              Led by Woody, Andy's toys live happily in his room until Andy's birthday brings Buzz Lightyear onto the scene. Afraid of losing his place in Andy's heart, Woody plots against Buzz. But when circumstances separate Buzz and Woody from their owner, the duo eventually learns to put aside their differences.   \n",
       "1  When siblings Judy and Peter discover an enchanted board game that opens the door to a magical world, they unwittingly invite Alan -- an adult who's been trapped inside the game for 26 years -- into their living room. Alan's only hope for freedom is to finish the game, which proves risky as all three find themselves running from giant rhinoceroses, evil monkeys and other terrifying creatures.   \n",
       "2                                                                      A family wedding reignites the ancient feud between next-door neighbors and fishing buddies John and Max. Meanwhile, a sultry Italian divorcée opens a restaurant at the local bait shop, alarming the locals who worry she'll scare the fish away. But she's less interested in seafood than she is in cooking up a hot time with Max.   \n",
       "3                                                                                                                               Cheated on, mistreated and stepped on, the women are holding their breath, waiting for the elusive \"good man\" to break a string of less-than-stellar lovers. Friends and confidants Vannah, Bernie, Glo and Robin talk it all out, determined to find a better way to breathe.   \n",
       "4                                                                               Just when George Banks has recovered from his daughter's wedding, he receives the news that she's pregnant ... and that George's wife, Nina, is expecting too. He was planning on selling their home, but that's a plan that -- like George -- will have to change with the arrival of both a grandchild and a kid of his own.   \n",
       "\n",
       "  popularity                       poster_path  \\\n",
       "0  21.946943  /rhIRbceoE9lR4veEXuwCC2wARtG.jpg   \n",
       "1  17.015539  /vzmL6fP7aPKNKPRTFnZmiUfciyV.jpg   \n",
       "2    11.7129  /6ksm1sjKMFLbO7UY2i6G1ju9SML.jpg   \n",
       "3   3.859495  /16XOMpEaLWkrcPqSQqhTmeJuqQl.jpg   \n",
       "4   8.387519  /e64sOI48hQXyru7naBFyssKFxVd.jpg   \n",
       "\n",
       "                                                                                                                  production_companies  \\\n",
       "0                                                                                       [{'name': 'Pixar Animation Studios', 'id': 3}]   \n",
       "1  [{'name': 'TriStar Pictures', 'id': 559}, {'name': 'Teitler Film', 'id': 2550}, {'name': 'Interscope Communications', 'id': 10201}]   \n",
       "2                                                      [{'name': 'Warner Bros.', 'id': 6194}, {'name': 'Lancaster Gate', 'id': 19464}]   \n",
       "3                                                                      [{'name': 'Twentieth Century Fox Film Corporation', 'id': 306}]   \n",
       "4                                         [{'name': 'Sandollar Productions', 'id': 5842}, {'name': 'Touchstone Pictures', 'id': 9195}]   \n",
       "\n",
       "                                         production_countries release_date  \\\n",
       "0  [{'iso_3166_1': 'US', 'name': 'United States of America'}]   1995-10-30   \n",
       "1  [{'iso_3166_1': 'US', 'name': 'United States of America'}]   1995-12-15   \n",
       "2  [{'iso_3166_1': 'US', 'name': 'United States of America'}]   1995-12-22   \n",
       "3  [{'iso_3166_1': 'US', 'name': 'United States of America'}]   1995-12-22   \n",
       "4  [{'iso_3166_1': 'US', 'name': 'United States of America'}]   1995-02-10   \n",
       "\n",
       "       revenue  runtime  \\\n",
       "0  373554033.0     81.0   \n",
       "1  262797249.0    104.0   \n",
       "2          0.0    101.0   \n",
       "3   81452156.0    127.0   \n",
       "4   76578911.0    106.0   \n",
       "\n",
       "                                                                    spoken_languages  \\\n",
       "0                                           [{'iso_639_1': 'en', 'name': 'English'}]   \n",
       "1  [{'iso_639_1': 'en', 'name': 'English'}, {'iso_639_1': 'fr', 'name': 'Français'}]   \n",
       "2                                           [{'iso_639_1': 'en', 'name': 'English'}]   \n",
       "3                                           [{'iso_639_1': 'en', 'name': 'English'}]   \n",
       "4                                           [{'iso_639_1': 'en', 'name': 'English'}]   \n",
       "\n",
       "     status  \\\n",
       "0  Released   \n",
       "1  Released   \n",
       "2  Released   \n",
       "3  Released   \n",
       "4  Released   \n",
       "\n",
       "                                                                          tagline  \\\n",
       "0                                                                            None   \n",
       "1                                       Roll the dice and unleash the excitement!   \n",
       "2                            Still Yelling. Still Fighting. Still Ready for Love.   \n",
       "3  Friends are the people who let you be yourself... and never let you forget it.   \n",
       "4  Just When His World Is Back To Normal... He's In For The Surprise Of His Life!   \n",
       "\n",
       "                         title  video  vote_average  vote_count  \n",
       "0                    Toy Story  False           7.7      5415.0  \n",
       "1                      Jumanji  False           6.9      2413.0  \n",
       "2             Grumpier Old Men  False           6.5        92.0  \n",
       "3            Waiting to Exhale  False           6.1        34.0  \n",
       "4  Father of the Bride Part II  False           5.7       173.0  "
      ]
     },
     "execution_count": 156,
     "metadata": {},
     "output_type": "execute_result"
    }
   ],
   "source": [
    "# Se visualizan los datos del CSV Movies\n",
    "movies.head()"
   ]
  },
  {
   "cell_type": "markdown",
   "metadata": {},
   "source": [
    "- Valores Nulos"
   ]
  },
  {
   "cell_type": "code",
   "execution_count": 157,
   "metadata": {},
   "outputs": [
    {
     "name": "stdout",
     "output_type": "stream",
     "text": [
      "VALORES NULOS POR COLUMNA: \n",
      " adult                        0\n",
      "belongs_to_collection    40972\n",
      "budget                       0\n",
      "genres                       0\n",
      "homepage                 37684\n",
      "id                           0\n",
      "imdb_id                     17\n",
      "original_language           11\n",
      "original_title               0\n",
      "overview                   954\n",
      "popularity                   5\n",
      "poster_path                386\n",
      "production_companies         3\n",
      "production_countries         3\n",
      "release_date                87\n",
      "revenue                      6\n",
      "runtime                    263\n",
      "spoken_languages             6\n",
      "status                      87\n",
      "tagline                  25054\n",
      "title                        6\n",
      "video                        6\n",
      "vote_average                 6\n",
      "vote_count                   6\n",
      "dtype: int64\n"
     ]
    }
   ],
   "source": [
    "# Se visualizan la cantidad de valores nulos por columna\n",
    "print(f'VALORES NULOS POR COLUMNA: \\n {movies.isnull().sum()}')\n"
   ]
  },
  {
   "cell_type": "code",
   "execution_count": 158,
   "metadata": {},
   "outputs": [],
   "source": [
    "# Se reemplazan valores nulo\n",
    "# movies.fillna('Sin Dato', inplace = True)"
   ]
  },
  {
   "cell_type": "code",
   "execution_count": 159,
   "metadata": {},
   "outputs": [
    {
     "name": "stdout",
     "output_type": "stream",
     "text": [
      "VALORES NULOS POR COLUMNA: \n",
      " adult                        0\n",
      "belongs_to_collection    40972\n",
      "budget                       0\n",
      "genres                       0\n",
      "homepage                 37684\n",
      "id                           0\n",
      "imdb_id                     17\n",
      "original_language           11\n",
      "original_title               0\n",
      "overview                   954\n",
      "popularity                   5\n",
      "poster_path                386\n",
      "production_companies         3\n",
      "production_countries         3\n",
      "release_date                87\n",
      "revenue                      6\n",
      "runtime                    263\n",
      "spoken_languages             6\n",
      "status                      87\n",
      "tagline                  25054\n",
      "title                        6\n",
      "video                        6\n",
      "vote_average                 6\n",
      "vote_count                   6\n",
      "dtype: int64\n"
     ]
    }
   ],
   "source": [
    "# Nuevamente se realiza el recuento de nulos\n",
    "print(f'VALORES NULOS POR COLUMNA: \\n {movies.isnull().sum()}')"
   ]
  },
  {
   "cell_type": "markdown",
   "metadata": {},
   "source": [
    "- Valores Duplicados --------------------------VER------------------------------------------"
   ]
  },
  {
   "cell_type": "code",
   "execution_count": 160,
   "metadata": {},
   "outputs": [
    {
     "name": "stdout",
     "output_type": "stream",
     "text": [
      "VALORES DUPLICADOS POR COLUMNA: \n",
      " adult                    45461\n",
      "belongs_to_collection    43767\n",
      "budget                   44240\n",
      "genres                   41397\n",
      "homepage                 37792\n",
      "id                          30\n",
      "imdb_id                     48\n",
      "original_language        45373\n",
      "original_title            2093\n",
      "overview                  1158\n",
      "popularity                1289\n",
      "poster_path                441\n",
      "production_companies     22757\n",
      "production_countries     43072\n",
      "release_date             28129\n",
      "revenue                  38602\n",
      "runtime                  45112\n",
      "spoken_languages         43534\n",
      "status                   45459\n",
      "tagline                  25182\n",
      "title                     3188\n",
      "video                    45463\n",
      "vote_average             45373\n",
      "vote_count               43645\n",
      "dtype: int64\n"
     ]
    }
   ],
   "source": [
    "# Se visualizan la cantidad de valores duplicados por columna (Se debe tener en cuenta los datos de cada columna. EJEMPLO: \"adult\" es binaria -False / True-)\n",
    "print(f'VALORES DUPLICADOS POR COLUMNA: \\n {movies.apply(lambda col: col.duplicated().sum())}')\n"
   ]
  },
  {
   "cell_type": "code",
   "execution_count": 161,
   "metadata": {},
   "outputs": [
    {
     "data": {
      "text/html": [
       "<div>\n",
       "<style scoped>\n",
       "    .dataframe tbody tr th:only-of-type {\n",
       "        vertical-align: middle;\n",
       "    }\n",
       "\n",
       "    .dataframe tbody tr th {\n",
       "        vertical-align: top;\n",
       "    }\n",
       "\n",
       "    .dataframe thead th {\n",
       "        text-align: right;\n",
       "    }\n",
       "</style>\n",
       "<table border=\"1\" class=\"dataframe\">\n",
       "  <thead>\n",
       "    <tr style=\"text-align: right;\">\n",
       "      <th></th>\n",
       "      <th>adult</th>\n",
       "      <th>belongs_to_collection</th>\n",
       "      <th>budget</th>\n",
       "      <th>genres</th>\n",
       "      <th>homepage</th>\n",
       "      <th>id_original</th>\n",
       "      <th>imdb_id</th>\n",
       "      <th>original_language</th>\n",
       "      <th>original_title</th>\n",
       "      <th>overview</th>\n",
       "      <th>popularity</th>\n",
       "      <th>poster_path</th>\n",
       "      <th>production_companies</th>\n",
       "      <th>production_countries</th>\n",
       "      <th>release_date</th>\n",
       "      <th>revenue</th>\n",
       "      <th>runtime</th>\n",
       "      <th>spoken_languages</th>\n",
       "      <th>status</th>\n",
       "      <th>tagline</th>\n",
       "      <th>title</th>\n",
       "      <th>video</th>\n",
       "      <th>vote_average</th>\n",
       "      <th>vote_count</th>\n",
       "    </tr>\n",
       "  </thead>\n",
       "  <tbody>\n",
       "    <tr>\n",
       "      <th>0</th>\n",
       "      <td>False</td>\n",
       "      <td>{'id': 10194, 'name': 'Toy Story Collection', 'poster_path': '/7G9915LfUQ2lVfwMEEhDsn3kT4B.jpg', 'backdrop_path': '/9FBwqcd9IRruEDUrTdcaafOMKUq.jpg'}</td>\n",
       "      <td>30000000</td>\n",
       "      <td>[{'id': 16, 'name': 'Animation'}, {'id': 35, 'name': 'Comedy'}, {'id': 10751, 'name': 'Family'}]</td>\n",
       "      <td>http://toystory.disney.com/toy-story</td>\n",
       "      <td>862</td>\n",
       "      <td>tt0114709</td>\n",
       "      <td>en</td>\n",
       "      <td>Toy Story</td>\n",
       "      <td>Led by Woody, Andy's toys live happily in his room until Andy's birthday brings Buzz Lightyear onto the scene. Afraid of losing his place in Andy's heart, Woody plots against Buzz. But when circumstances separate Buzz and Woody from their owner, the duo eventually learns to put aside their differences.</td>\n",
       "      <td>21.946943</td>\n",
       "      <td>/rhIRbceoE9lR4veEXuwCC2wARtG.jpg</td>\n",
       "      <td>[{'name': 'Pixar Animation Studios', 'id': 3}]</td>\n",
       "      <td>[{'iso_3166_1': 'US', 'name': 'United States of America'}]</td>\n",
       "      <td>1995-10-30</td>\n",
       "      <td>373554033.0</td>\n",
       "      <td>81.0</td>\n",
       "      <td>[{'iso_639_1': 'en', 'name': 'English'}]</td>\n",
       "      <td>Released</td>\n",
       "      <td>None</td>\n",
       "      <td>Toy Story</td>\n",
       "      <td>False</td>\n",
       "      <td>7.7</td>\n",
       "      <td>5415.0</td>\n",
       "    </tr>\n",
       "  </tbody>\n",
       "</table>\n",
       "</div>"
      ],
      "text/plain": [
       "   adult  \\\n",
       "0  False   \n",
       "\n",
       "                                                                                                                                   belongs_to_collection  \\\n",
       "0  {'id': 10194, 'name': 'Toy Story Collection', 'poster_path': '/7G9915LfUQ2lVfwMEEhDsn3kT4B.jpg', 'backdrop_path': '/9FBwqcd9IRruEDUrTdcaafOMKUq.jpg'}   \n",
       "\n",
       "     budget  \\\n",
       "0  30000000   \n",
       "\n",
       "                                                                                             genres  \\\n",
       "0  [{'id': 16, 'name': 'Animation'}, {'id': 35, 'name': 'Comedy'}, {'id': 10751, 'name': 'Family'}]   \n",
       "\n",
       "                               homepage id_original    imdb_id  \\\n",
       "0  http://toystory.disney.com/toy-story         862  tt0114709   \n",
       "\n",
       "  original_language original_title  \\\n",
       "0                en      Toy Story   \n",
       "\n",
       "                                                                                                                                                                                                                                                                                                          overview  \\\n",
       "0  Led by Woody, Andy's toys live happily in his room until Andy's birthday brings Buzz Lightyear onto the scene. Afraid of losing his place in Andy's heart, Woody plots against Buzz. But when circumstances separate Buzz and Woody from their owner, the duo eventually learns to put aside their differences.   \n",
       "\n",
       "  popularity                       poster_path  \\\n",
       "0  21.946943  /rhIRbceoE9lR4veEXuwCC2wARtG.jpg   \n",
       "\n",
       "                             production_companies  \\\n",
       "0  [{'name': 'Pixar Animation Studios', 'id': 3}]   \n",
       "\n",
       "                                         production_countries release_date  \\\n",
       "0  [{'iso_3166_1': 'US', 'name': 'United States of America'}]   1995-10-30   \n",
       "\n",
       "       revenue  runtime                          spoken_languages    status  \\\n",
       "0  373554033.0     81.0  [{'iso_639_1': 'en', 'name': 'English'}]  Released   \n",
       "\n",
       "  tagline      title  video  vote_average  vote_count  \n",
       "0    None  Toy Story  False           7.7      5415.0  "
      ]
     },
     "execution_count": 161,
     "metadata": {},
     "output_type": "execute_result"
    }
   ],
   "source": [
    "movies = movies.rename(columns= {'id' : 'id_original'})\n",
    "movies.head(1)"
   ]
  },
  {
   "cell_type": "markdown",
   "metadata": {},
   "source": [
    "## - DESANIDADO DE COLUMNAS -"
   ]
  },
  {
   "cell_type": "code",
   "execution_count": 162,
   "metadata": {},
   "outputs": [],
   "source": [
    "# Inicialmente se cambia el nombre de la columna \"id\" del dataframe original por \"id_original\", ya que en varios diccionarios dentro del dataframe poseen claves \"id\"\n",
    "movies = movies.rename(columns= {'id_original' : 'id_ORIGINAL'})\n",
    "\n",
    "# Lo mismo con la columna \"poster_path\" (repite nombre con clave de \"belongs_to_collection\")\n",
    "movies = movies.rename(columns= {'poster_path' : 'poster_pathORIGINAL'})\n"
   ]
  },
  {
   "cell_type": "markdown",
   "metadata": {},
   "source": [
    "#### 1 - COLUMNA ---------> \"belongs_to_collection\""
   ]
  },
  {
   "cell_type": "code",
   "execution_count": 163,
   "metadata": {},
   "outputs": [],
   "source": [
    "import ast # Se importa biblioteca \"ast\". Útil para analizar y procesar código de Python como estructuras de datos\n",
    "\n",
    "\n",
    "# Convierte los valores \"str\" a \"dict\"\n",
    "movies['belongs_to_collection'] = movies['belongs_to_collection'].apply(lambda x: ast.literal_eval(x) if isinstance(x, str) else x)\n",
    "\n",
    "# Desanidar los valores de tipo diccionario utilizando json_normalize\n",
    "movies = pd.concat([movies.drop(['belongs_to_collection'], axis=1), movies['belongs_to_collection'].apply(pd.Series)], axis=1)\n",
    "\n",
    "# Convertir los valores NaN a valores None\n",
    "# movies = movies.where(pd.notnull(movies), None)"
   ]
  },
  {
   "cell_type": "code",
   "execution_count": 164,
   "metadata": {},
   "outputs": [],
   "source": [
    "# Renombramos las columnas para identificar que eran pertenecientes a la columna \"belongs_to_collection\"\n",
    "movies.rename(columns = {'id' : 'id_belongs'}, inplace= True)\n",
    "movies.rename(columns = {'name' : 'name_belongs'}, inplace= True)\n",
    "movies.rename(columns = {'poster_path' : 'poster_path_belongs'}, inplace= True)\n",
    "movies.rename(columns = {'backdrop_path' : 'backdrop_path_belongs'}, inplace= True)"
   ]
  },
  {
   "cell_type": "markdown",
   "metadata": {},
   "source": [
    "#### 2 - COLUMNA ---------> \"genres\""
   ]
  },
  {
   "cell_type": "code",
   "execution_count": 165,
   "metadata": {},
   "outputs": [],
   "source": [
    "# Se importa biblioteca \"ast\". Útil para analizar y procesar código de Python como estructuras de datos\n",
    "import ast\n",
    "\n",
    "# Convierte los valores \"str\" a \"dict\"\n",
    "movies['genres'] = movies['genres'].apply(lambda x: ast.literal_eval(x) if isinstance(x, str) else x)\n"
   ]
  },
  {
   "cell_type": "code",
   "execution_count": 166,
   "metadata": {},
   "outputs": [],
   "source": [
    "# La función \"safe_eval()\" convierte una cadena en una estructura de datos de Python\n",
    "def safe_eval(x): \n",
    "    try:\n",
    "        return ast.literal_eval(x)\n",
    "    except (ValueError, SyntaxError):\n",
    "        return None\n",
    "\n",
    "# Transforma elementos de la columna \"genres\" que son cadenas te texto que representan listas de diccionario en listas de diccionarios reales\n",
    "movies['genres'] = movies['genres'].apply(lambda x: safe_eval(x) if isinstance(x, str) else x) \n",
    "\n",
    "\n",
    "\n",
    "# La función extrae los valores de los campos ID y Name de una lista de diccionarios\n",
    "def extraer_ids_nombres(genres):\n",
    "    ids = [genre['id'] for genre in genres] if genres else []\n",
    "    names = [genre['name'] for genre in genres] if genres else []\n",
    "    return pd.Series({'ID': ids, 'Name': names})\n",
    "\n",
    "# Aplica la función \"extraer_ids_nombres\" a cada valor de la columna y guarda los resultados en dos nuevas columnas \"ID\" y \"Name\"\n",
    "movies[['ID', 'Name']] = movies['genres'].apply(extraer_ids_nombres)\n",
    "\n",
    "# Se elimina la columna \"genres\"\n",
    "movies = movies.drop(columns=['genres'])"
   ]
  },
  {
   "cell_type": "code",
   "execution_count": 167,
   "metadata": {},
   "outputs": [],
   "source": [
    "# Al haberse agregado una columna \"0\" la cual poseía unicamentes valores NaN, se elimina\n",
    "eliminar = movies.columns[-3]\n",
    "movies.drop(eliminar, axis = 1, inplace = True)\n",
    "\n",
    "# Se modifica el nombre de las columnas agregadas, especificando a cual pertenecían anteriormente\n",
    "movies.rename(columns = {'ID' : 'id_genre'}, inplace= True)\n",
    "movies.rename(columns = {'Name' : 'name_genre'}, inplace= True)"
   ]
  },
  {
   "cell_type": "markdown",
   "metadata": {},
   "source": [
    "#### 3 - COLUMNA ---------> \"production_companies\""
   ]
  },
  {
   "cell_type": "code",
   "execution_count": 168,
   "metadata": {},
   "outputs": [],
   "source": [
    "# Se importa biblioteca \"ast\". Útil para analizar y procesar código de Python como estructuras de datos\n",
    "import ast\n",
    "\n",
    "# Convierte los valores \"str\" a \"dict\"\n",
    "movies['production_companies'] = movies['production_companies'].apply(lambda x: ast.literal_eval(x) if isinstance(x, str) else x)"
   ]
  },
  {
   "cell_type": "code",
   "execution_count": 169,
   "metadata": {},
   "outputs": [],
   "source": [
    "# Se utiliza nuevamente la función \"safe_eval\". \n",
    "# Transforma elementos de la columna \"production_companies\" que son cadenas te texto que representan listas de diccionario en listas de diccionarios reales\n",
    "movies['production_companies'] = movies['production_companies'].apply(lambda x: safe_eval(x) if isinstance(x, str) else x) \n",
    "\n",
    "\n",
    "# Se utiliza nuevamente la función \"extraer_ids_nombres\"\n",
    "# Aplica la función \"extraer_ids_nombres\" a cada valor de la columna y guarda los resultados en dos nuevas columnas \"ID\" y \"Name\"\n",
    "movies[['ID', 'Name']] = movies['production_companies'].apply(extraer_ids_nombres)\n",
    "\n",
    "# Se elimina la columna \"genres\"\n",
    "movies = movies.drop(columns=['production_companies'])"
   ]
  },
  {
   "cell_type": "code",
   "execution_count": 170,
   "metadata": {},
   "outputs": [],
   "source": [
    "# Se modifica el nombre de las columnas agregadas, especificando a cual pertenecían anteriormente\n",
    "movies.rename(columns = {'ID' : 'id_production_companies'}, inplace= True)\n",
    "movies.rename(columns = {'Name' : 'name_production_companies'}, inplace= True)"
   ]
  },
  {
   "cell_type": "markdown",
   "metadata": {},
   "source": [
    "#### 4 - COLUMNA ---------> \"production_countries\""
   ]
  },
  {
   "cell_type": "code",
   "execution_count": 171,
   "metadata": {},
   "outputs": [],
   "source": [
    "# Se importa biblioteca \"ast\". Útil para analizar y procesar código de Python como estructuras de datos\n",
    "import ast\n",
    "\n",
    "# Convierte los valores \"str\" a \"dict\"\n",
    "movies['production_countries'] = movies['production_countries'].apply(lambda x: ast.literal_eval(x) if isinstance(x, str) else x)"
   ]
  },
  {
   "cell_type": "code",
   "execution_count": 172,
   "metadata": {},
   "outputs": [],
   "source": [
    "# Se utiliza nuevamente la función \"safe_eval\". \n",
    "# Transforma elementos de la columna \"production_companies\" que son cadenas te texto que representan listas de diccionario en listas de diccionarios reales\n",
    "movies['production_countries'] = movies['production_countries'].apply(lambda x: safe_eval(x) if isinstance(x, str) else x) \n"
   ]
  },
  {
   "cell_type": "code",
   "execution_count": 173,
   "metadata": {},
   "outputs": [],
   "source": [
    "# Se crea una nueva función para extraer los códigos ISO y nombre de países\n",
    "def extraer_iso_y_nombres(countries, key):\n",
    "    if isinstance(countries, list):\n",
    "        iso_codes = [country[key] for country in countries if isinstance(country, dict)]\n",
    "        names = [country['name'] for country in countries if isinstance(country, dict)]\n",
    "    else:\n",
    "        iso_codes = []\n",
    "        names = []\n",
    "    return pd.Series({f'{key}': iso_codes, 'Name': names})\n",
    "\n",
    "# Aplica la función \"extraer_iso_y_nombres\" a cada valor de la columna y guarda los resultados en dos nuevas columnas \"ISO\" y \"Name\"\n",
    "movies[['ISO', 'Name']] = movies['production_countries'].apply(extraer_iso_y_nombres, key = 'iso_3166_1' )"
   ]
  },
  {
   "cell_type": "code",
   "execution_count": 174,
   "metadata": {},
   "outputs": [],
   "source": [
    "# Los valores dentro de las dos nuevas columnas creadas se encuentra en formato lista, con el siguiente código lo transformamos a \"str\" separados por \",\"\n",
    "movies['Name'] = movies['Name'].apply(lambda x: ', '.join(x) if isinstance(x, list) else str(x))\n",
    "movies['ISO'] = movies['ISO'].apply(lambda x: ', '.join(x) if isinstance(x, list) else str(x))"
   ]
  },
  {
   "cell_type": "code",
   "execution_count": 175,
   "metadata": {},
   "outputs": [],
   "source": [
    "# Se modifica el nombre de las columnas agregadas, especificando a cual pertenecían anteriormente\n",
    "movies.rename(columns = {'ISO' : 'Iso_prod_countries'}, inplace= True)\n",
    "movies.rename(columns = {'Name' : 'name_prod_countries'}, inplace= True)"
   ]
  },
  {
   "cell_type": "code",
   "execution_count": 176,
   "metadata": {},
   "outputs": [],
   "source": [
    "# Se elimina la columna \"production_companies\"\n",
    "movies = movies.drop(columns=['production_countries'])"
   ]
  },
  {
   "cell_type": "markdown",
   "metadata": {},
   "source": [
    "#### 5 - COLUMNA ---------> \"spoken_languages\""
   ]
  },
  {
   "cell_type": "code",
   "execution_count": 177,
   "metadata": {},
   "outputs": [],
   "source": [
    "# Convierte los valores \"str\" a \"dict\"\n",
    "movies['spoken_languages'] = movies['spoken_languages'].apply(lambda x: ast.literal_eval(x) if isinstance(x, str) else x)"
   ]
  },
  {
   "cell_type": "code",
   "execution_count": 178,
   "metadata": {},
   "outputs": [],
   "source": [
    "# Se reutiliza la función \"extraer_iso_y_nombres\", modificando el valor de la clave ISO\n",
    "movies[['ISO', 'Name']] = movies['spoken_languages'].apply(extraer_iso_y_nombres, key = 'iso_639_1' )"
   ]
  },
  {
   "cell_type": "code",
   "execution_count": 179,
   "metadata": {},
   "outputs": [],
   "source": [
    "# Los valores dentro de las dos nuevas columnas creadas se encuentra en formato lista, con el siguiente código lo transformamos a \"str\" separados por \",\"\n",
    "movies['Name'] = movies['Name'].apply(lambda x: ', '.join(x) if isinstance(x, list) else str(x))\n",
    "movies['ISO'] = movies['ISO'].apply(lambda x: ', '.join(x) if isinstance(x, list) else str(x))"
   ]
  },
  {
   "cell_type": "code",
   "execution_count": 180,
   "metadata": {},
   "outputs": [],
   "source": [
    "# Se modifica el nombre de las columnas agregadas, especificando a cual pertenecían anteriormente\n",
    "movies.rename(columns = {'ISO' : 'Iso_spoken'}, inplace= True)\n",
    "movies.rename(columns = {'Name' : 'name_spoken'}, inplace= True)"
   ]
  },
  {
   "cell_type": "code",
   "execution_count": 181,
   "metadata": {},
   "outputs": [],
   "source": [
    "# Se elimina la columna \"spoken_languages\"\n",
    "movies = movies.drop(columns=['spoken_languages'])"
   ]
  },
  {
   "cell_type": "code",
   "execution_count": 182,
   "metadata": {},
   "outputs": [],
   "source": [
    "# Se guarda el dataframe para tratarlo en otro notebook\n",
    "# movies.to_csv('movies_desanidada', index = False)"
   ]
  },
  {
   "cell_type": "markdown",
   "metadata": {},
   "source": [
    "## - REEMPLAZAR VALORES NULOS DE CAMPOS \"revenue\" y \"budget\" POR \"0\" -"
   ]
  },
  {
   "cell_type": "code",
   "execution_count": 183,
   "metadata": {},
   "outputs": [
    {
     "name": "stdout",
     "output_type": "stream",
     "text": [
      "CANTIDAD VALORES NULOS EN \"REVENUE\": 6\n",
      "CANTIDAD VALORES NULOS EN \"BUDGET\": 0\n"
     ]
    }
   ],
   "source": [
    "# Se visualiza la cantidad de valores nulos en la columna \"revenue\" y \"budget\"\n",
    "print(f'CANTIDAD VALORES NULOS EN \"REVENUE\": {movies[\"revenue\"].isnull().sum()}')\n",
    "print(f'CANTIDAD VALORES NULOS EN \"BUDGET\": {movies[\"budget\"].isnull().sum()}')"
   ]
  },
  {
   "cell_type": "code",
   "execution_count": 184,
   "metadata": {},
   "outputs": [
    {
     "name": "stdout",
     "output_type": "stream",
     "text": [
      "CANTIDAD VALORES NULOS EN \"REVENUE\": 0\n",
      "CANTIDAD VALORES NULOS EN \"BUDGET\": 0\n"
     ]
    }
   ],
   "source": [
    "# Se reemplazan los valor nulos por \"0\" en la columna \"revenue\" \n",
    "movies['revenue'].fillna(0, inplace = True)\n",
    "\n",
    "# Se vuelve a visualizar la cantidad de nulos\n",
    "print(f'CANTIDAD VALORES NULOS EN \"REVENUE\": {movies[\"revenue\"].isnull().sum()}')\n",
    "print(f'CANTIDAD VALORES NULOS EN \"BUDGET\": {movies[\"budget\"].isnull().sum()}')"
   ]
  },
  {
   "cell_type": "markdown",
   "metadata": {},
   "source": [
    "## - ELIMINAR VALORES NULOS DEL CAMPO \"release_date\" -"
   ]
  },
  {
   "cell_type": "code",
   "execution_count": 185,
   "metadata": {},
   "outputs": [
    {
     "name": "stdout",
     "output_type": "stream",
     "text": [
      "CANTIDAD VALORES NULOS EN \"RELEASE_DATE\": 87\n"
     ]
    }
   ],
   "source": [
    "# Cantidad total de valores nulos en \"release_date\"\n",
    "print(f'CANTIDAD VALORES NULOS EN \"RELEASE_DATE\": {movies[\"release_date\"].isnull().sum()}')"
   ]
  },
  {
   "cell_type": "code",
   "execution_count": 186,
   "metadata": {},
   "outputs": [],
   "source": [
    "# Eliminamos las filas donde hay un valor nulo correspondiente a la columna \"release_date\"\n",
    "movies = movies.dropna(subset= ['release_date']).reset_index(drop = True)"
   ]
  },
  {
   "cell_type": "code",
   "execution_count": 187,
   "metadata": {},
   "outputs": [
    {
     "name": "stdout",
     "output_type": "stream",
     "text": [
      "CANTIDAD VALORES NULOS EN \"RELEASE_DATE\": 0\n"
     ]
    }
   ],
   "source": [
    "# Volvemos a contar la cantidad de valores nulos\n",
    "print(f'CANTIDAD VALORES NULOS EN \"RELEASE_DATE\": {movies[\"release_date\"].isnull().sum()}')"
   ]
  },
  {
   "cell_type": "markdown",
   "metadata": {},
   "source": [
    "## - CAMBIAR TIPO DE DATOS Y FORMATO AL CAMPO \"release_date\" Y CREAR COLUMNA \"release_year\" CON EL AÑO DE ESTRENO -\n"
   ]
  },
  {
   "cell_type": "code",
   "execution_count": 188,
   "metadata": {},
   "outputs": [
    {
     "name": "stdout",
     "output_type": "stream",
     "text": [
      "object\n"
     ]
    }
   ],
   "source": [
    "# Se observan el tipo de dato de la columna \n",
    "print(movies['release_date'].dtype)"
   ]
  },
  {
   "cell_type": "code",
   "execution_count": 189,
   "metadata": {},
   "outputs": [],
   "source": [
    "# Convertir la columna \"release_date\" a datetime\n",
    "movies['release_date'] = pd.to_datetime(movies['release_date'], format='%Y-%m-%d', errors='coerce')\n",
    "\n",
    "# Se crea una nueva columna con el año de estreno. Se cambian los valores \"NaT\" a \"0\", y se convierten a \"int\" ya que sino los toma como decimales\n",
    "movies['release_year'] = movies['release_date'].dt.year.fillna(0).astype(int)"
   ]
  },
  {
   "cell_type": "code",
   "execution_count": 190,
   "metadata": {},
   "outputs": [
    {
     "name": "stdout",
     "output_type": "stream",
     "text": [
      "datetime64[ns]\n"
     ]
    }
   ],
   "source": [
    "# Se vuelve a observar el tipo de dato de la columna \"release_date\"\n",
    "print(movies['release_date'].dtype)"
   ]
  },
  {
   "cell_type": "markdown",
   "metadata": {},
   "source": [
    "## - CREAR COLUMNA \"return\" CALCULANDO EL ROI (Retorno de Inversión) -"
   ]
  },
  {
   "cell_type": "code",
   "execution_count": 191,
   "metadata": {},
   "outputs": [
    {
     "name": "stdout",
     "output_type": "stream",
     "text": [
      "Tipo Dato \"Revenue\": float64\n",
      "Tipo Dato: \"Budget\": object\n"
     ]
    }
   ],
   "source": [
    "# Se observan los tipos de datos de las columna \"revenue\" y \"budget\"\n",
    "print(f'Tipo Dato \"Revenue\": {movies[\"revenue\"].dtype}')\n",
    "print(f'Tipo Dato: \"Budget\": {movies[\"budget\"].dtype}')"
   ]
  },
  {
   "cell_type": "code",
   "execution_count": 192,
   "metadata": {},
   "outputs": [
    {
     "name": "stdout",
     "output_type": "stream",
     "text": [
      "Tipo Dato \"Revenue\": int32\n",
      "Tipo Dato: \"Budget\": int32\n"
     ]
    }
   ],
   "source": [
    "# Se cambia el tipo de dato de cada columna a \"int\". En el caso de \"budget\", dió erorr en la conversión ya que contaba con valores no númericos, por lo que se convirtieron a \"NaN\" para posteriormente transformarlos a \"0\" \n",
    "movies[\"revenue\"] = movies[\"revenue\"].astype(int)\n",
    "movies[\"budget\"] = (pd.to_numeric(movies[\"budget\"], errors = 'coerce').fillna(0).astype(int))\n",
    "\n",
    "# Se vuelven a observar el tipo de dato de cada columna\n",
    "print(f'Tipo Dato \"Revenue\": {movies[\"revenue\"].dtype}')\n",
    "print(f'Tipo Dato: \"Budget\": {movies[\"budget\"].dtype}')"
   ]
  },
  {
   "cell_type": "code",
   "execution_count": 193,
   "metadata": {},
   "outputs": [],
   "source": [
    "# Se calcula el ROI y se multiplica por 100 para mostrarlo en porcentaje \n",
    "movies['return (porcent)'] = ((movies['revenue'] - movies['budget']) / movies['revenue']) * 100"
   ]
  },
  {
   "cell_type": "markdown",
   "metadata": {},
   "source": [
    "## - ELIMINAR COLUMNAS QUE NO SERÁN UTILIZADAS (\"video\", \"imdb_id\", \"adult\", \"original_title\", \"poster_path\", \"homepage\") -"
   ]
  },
  {
   "cell_type": "code",
   "execution_count": 194,
   "metadata": {},
   "outputs": [],
   "source": [
    "# Se eliminan las columnas que no se utilizarán\n",
    "movies = movies.drop(['video', 'imdb_id','adult', 'original_title', 'poster_pathORIGINAL', 'homepage'], axis = 1)"
   ]
  },
  {
   "cell_type": "code",
   "execution_count": 195,
   "metadata": {},
   "outputs": [],
   "source": [
    "# GUARDAR EN OTRO FORMATO, YA QUE DE SER CSV NO ME RECONOCE LAS MODIFICACIONES DE TIPOS DE DATOS -----------------------------<<<<<<<<-----\n",
    "movies.to_csv('Movies_Transformaciones.csv', index = False)"
   ]
  }
 ],
 "metadata": {
  "kernelspec": {
   "display_name": "Python 3",
   "language": "python",
   "name": "python3"
  },
  "language_info": {
   "codemirror_mode": {
    "name": "ipython",
    "version": 3
   },
   "file_extension": ".py",
   "mimetype": "text/x-python",
   "name": "python",
   "nbconvert_exporter": "python",
   "pygments_lexer": "ipython3",
   "version": "3.11.8"
  }
 },
 "nbformat": 4,
 "nbformat_minor": 2
}
