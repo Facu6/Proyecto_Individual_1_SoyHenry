{
 "cells": [
  {
   "cell_type": "markdown",
   "metadata": {},
   "source": [
    "# ---- TRANSFORMACIONES CREDITS ----"
   ]
  },
  {
   "cell_type": "code",
   "execution_count": 186,
   "metadata": {},
   "outputs": [],
   "source": [
    "# Se importa Pandas y se descargan dataset\n",
    "import pandas as pd\n",
    "\n",
    "credits = pd.read_csv(\"C:/Users/dispe/OneDrive/Documentos/CLASES/Proyecto Individual 1/Datasets/credits.csv\")\n",
    "\n",
    "credits.to_parquet('Credits.parquet')"
   ]
  },
  {
   "cell_type": "code",
   "execution_count": 187,
   "metadata": {},
   "outputs": [],
   "source": [
    "# Se cambian las opciones de visualización para poder observar el contenido completo de las columnas\n",
    "pd.set_option('display.max_colwidth', None) # En caso de volver a establecerlo sería \"pd.reset_option('display.max_colwidth')\"\n",
    "\n",
    "# Se amplia la visión para observar la totalidad de las columnas\n",
    "pd.set_option('display.max_columns', None)\n",
    "\n",
    "# Se importa módulo \"warnings\" para que no aparezcan dichos mensaje\n",
    "import warnings\n",
    "warnings.filterwarnings(\"ignore\")"
   ]
  },
  {
   "cell_type": "markdown",
   "metadata": {},
   "source": [
    "### --- SE PROCEDERÁ A TRABAJAR CON: - ID - CREW (\"DIRECTOR\") - CAST (\"PERSONAJES) ---"
   ]
  },
  {
   "cell_type": "code",
   "execution_count": 188,
   "metadata": {},
   "outputs": [],
   "source": [
    "# Se modifica el nombre de la columna \"id\" para que coincida con el de la columna perteneciente a \"Movies\"\n",
    "credits = credits.rename(columns= {'id' : 'id_ORIGINAL'})"
   ]
  },
  {
   "cell_type": "code",
   "execution_count": 189,
   "metadata": {},
   "outputs": [
    {
     "name": "stdout",
     "output_type": "stream",
     "text": [
      "object\n",
      "int64\n",
      "object\n"
     ]
    }
   ],
   "source": [
    "# Se observa el tipo de dato de cada columna\n",
    "print(credits['crew'].dtype)\n",
    "print(credits['id_ORIGINAL'].dtype)\n",
    "print(credits['cast'].dtype)"
   ]
  },
  {
   "cell_type": "code",
   "execution_count": 190,
   "metadata": {},
   "outputs": [
    {
     "name": "stdout",
     "output_type": "stream",
     "text": [
      "cast           0\n",
      "crew           0\n",
      "id_ORIGINAL    0\n",
      "dtype: int64\n"
     ]
    }
   ],
   "source": [
    "# Se observa la cantidad de valores nulos\n",
    "print(credits.isna().sum())"
   ]
  },
  {
   "cell_type": "markdown",
   "metadata": {},
   "source": [
    "- TRANSFORMACIÓN COLUMNA \"CREW\""
   ]
  },
  {
   "cell_type": "code",
   "execution_count": 191,
   "metadata": {},
   "outputs": [
    {
     "name": "stdout",
     "output_type": "stream",
     "text": [
      "<class 'str'>\n",
      "<class 'str'>\n"
     ]
    }
   ],
   "source": [
    "# Se visualiza el tipo de dato de los valores\n",
    "print(type(credits['cast'][0])) # Accede al primer elemento de la columna\n",
    "print(type(credits['cast'][0][0])) # Accede al primer elemento dentro de la primer lista de la columna"
   ]
  },
  {
   "cell_type": "code",
   "execution_count": 192,
   "metadata": {},
   "outputs": [
    {
     "name": "stdout",
     "output_type": "stream",
     "text": [
      "<class 'list'>\n",
      "<class 'dict'>\n"
     ]
    }
   ],
   "source": [
    "# Se importa el módulo \"ast\"\n",
    "import ast \n",
    "\n",
    "# Transforma la columna \"crew\" de string a lista de diccionario\n",
    "credits['crew'] = credits['crew'].apply(lambda x: ast.literal_eval(x) if isinstance(x, str) else x)\n",
    "\n",
    "# Se visualiza nuevamente el tipo de dato \n",
    "print(type(credits['crew'][0])) \n",
    "print(type(credits['crew'][0][0])) "
   ]
  },
  {
   "cell_type": "code",
   "execution_count": 193,
   "metadata": {},
   "outputs": [],
   "source": [
    "# Se crea la función para extraer el nombre de director para cada película\n",
    "def extraer_nombres_directores(crew):\n",
    "    if isinstance(crew, list):\n",
    "        directores = [miembro['name'] for miembro in crew if isinstance(miembro, dict) and miembro.get('job') == 'Director']\n",
    "    else:\n",
    "        None\n",
    "    return ', '.join(directores) if directores else None"
   ]
  },
  {
   "cell_type": "code",
   "execution_count": 194,
   "metadata": {},
   "outputs": [],
   "source": [
    "# Se crea una nueva columna \"Director\" donde se guardarán los nombres extraídos con la función \"extraer_nombres_directores\"\n",
    "credits['Director'] = credits['crew'].apply(extraer_nombres_directores)"
   ]
  },
  {
   "cell_type": "code",
   "execution_count": 195,
   "metadata": {},
   "outputs": [],
   "source": [
    "# Se elimina la columna \"crew\"\n",
    "credits = credits.drop(columns = ['crew'])"
   ]
  },
  {
   "cell_type": "markdown",
   "metadata": {},
   "source": [
    "- TRANSFORMACIÓN COLUMNA \"CAST\""
   ]
  },
  {
   "cell_type": "code",
   "execution_count": 196,
   "metadata": {},
   "outputs": [
    {
     "name": "stdout",
     "output_type": "stream",
     "text": [
      "<class 'str'>\n",
      "<class 'str'>\n"
     ]
    }
   ],
   "source": [
    "# Se visualiza el tipo de dato de los valores\n",
    "print(type(credits['cast'][0])) # Accede al primer elemento de la columna\n",
    "print(type(credits['cast'][0][0])) # Accede al primer elemento dentro de la primer lista de la columna"
   ]
  },
  {
   "cell_type": "code",
   "execution_count": 197,
   "metadata": {},
   "outputs": [
    {
     "name": "stdout",
     "output_type": "stream",
     "text": [
      "<class 'list'>\n",
      "<class 'dict'>\n"
     ]
    }
   ],
   "source": [
    "# Transforma la columna \"crew\" de string a lista de diccionario\n",
    "credits['cast'] = credits['cast'].apply(lambda x: ast.literal_eval(x) if isinstance(x, str) else x)\n",
    "\n",
    "# Se visualiza nuevamente el tipo de dato \n",
    "print(type(credits['cast'][0])) \n",
    "print(type(credits['cast'][0][0])) "
   ]
  },
  {
   "cell_type": "code",
   "execution_count": 198,
   "metadata": {},
   "outputs": [],
   "source": [
    "# Se crea la función para extraer el nombre de actores para cada película\n",
    "def extraer_nombres_actores(cast):\n",
    "    if isinstance(cast, list):\n",
    "        actores = [miembro['name'] for miembro in cast if isinstance(miembro, dict)]\n",
    "    else:\n",
    "        None\n",
    "    return ', '.join(actores) if actores else None"
   ]
  },
  {
   "cell_type": "code",
   "execution_count": 199,
   "metadata": {},
   "outputs": [],
   "source": [
    "# Se crea una nueva columna \"Actores\" donde se guardarán los nombres extraídos con la función \"extraer_nombres_actores\"\n",
    "credits['Actores'] = credits['cast'].apply(extraer_nombres_actores)"
   ]
  },
  {
   "cell_type": "code",
   "execution_count": 200,
   "metadata": {},
   "outputs": [],
   "source": [
    "# Se elimina la columna \"cast\"\n",
    "credits = credits.drop(columns = 'cast')"
   ]
  },
  {
   "cell_type": "code",
   "execution_count": 201,
   "metadata": {},
   "outputs": [
    {
     "name": "stdout",
     "output_type": "stream",
     "text": [
      "id_ORIGINAL       0\n",
      "Director        887\n",
      "Actores        2418\n",
      "dtype: int64\n"
     ]
    }
   ],
   "source": [
    "# Se visualizan los valores nulos para las columnas creadas\n",
    "print(credits.isna().sum())"
   ]
  },
  {
   "cell_type": "code",
   "execution_count": 202,
   "metadata": {},
   "outputs": [],
   "source": [
    "# Se reemplazan los valores nulos\n",
    "credits.fillna('Sin Dato', inplace = True)"
   ]
  },
  {
   "cell_type": "code",
   "execution_count": 203,
   "metadata": {},
   "outputs": [
    {
     "name": "stdout",
     "output_type": "stream",
     "text": [
      "id_ORIGINAL    0\n",
      "Director       0\n",
      "Actores        0\n",
      "dtype: int64\n"
     ]
    }
   ],
   "source": [
    "# Se visualizan nuevamente \n",
    "print(credits.isna().sum())"
   ]
  },
  {
   "cell_type": "code",
   "execution_count": 204,
   "metadata": {},
   "outputs": [],
   "source": [
    "credits.to_csv('Credits_Transformaciones.csv', index = False)"
   ]
  }
 ],
 "metadata": {
  "kernelspec": {
   "display_name": "Python 3",
   "language": "python",
   "name": "python3"
  },
  "language_info": {
   "codemirror_mode": {
    "name": "ipython",
    "version": 3
   },
   "file_extension": ".py",
   "mimetype": "text/x-python",
   "name": "python",
   "nbconvert_exporter": "python",
   "pygments_lexer": "ipython3",
   "version": "3.11.8"
  }
 },
 "nbformat": 4,
 "nbformat_minor": 2
}
